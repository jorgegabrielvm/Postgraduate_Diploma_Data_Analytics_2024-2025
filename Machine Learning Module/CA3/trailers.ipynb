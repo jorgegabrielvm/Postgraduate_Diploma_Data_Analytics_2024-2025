{
 "cells": [
  {
   "cell_type": "code",
   "execution_count": null,
   "id": "f9aa1303",
   "metadata": {},
   "outputs": [
    {
     "name": "stderr",
     "output_type": "stream",
     "text": [
      "Fetching trailers: 100%|██████████| 2500/2500 [1:14:19<00:00,  1.78s/it]"
     ]
    },
    {
     "name": "stdout",
     "output_type": "stream",
     "text": [
      "✅ Done!\n"
     ]
    },
    {
     "name": "stderr",
     "output_type": "stream",
     "text": [
      "\n"
     ]
    }
   ],
   "source": [
    "# Calling an API while hosting this app on Steamlit is difficult taks.\n",
    "# This way Im using the API here and then saving the results locally,\n",
    "# that is why I came up with the idea of getting my Trailer links outside my main dashboard.py\n",
    "# then loading them locally to avoid using Youtube's API for fetching each movie bible verse.\n",
    "\n",
    "import pandas as pd\n",
    "from youtubesearchpython import VideosSearch\n",
    "import time\n",
    "\n",
    "# Progress bar\n",
    "# It was taking a lot of time to get this data\n",
    "# I took almost 1:30h to fetch this data, I added this to let me know when it was done\n",
    "from tqdm import tqdm\n",
    "\n",
    "# Movie titles\n",
    "movies = pd.read_csv('movies.csv', encoding='latin1')\n",
    "unique_titles = movies['title'].dropna().drop_duplicates()\n",
    "\n",
    "# Gerting the trailer URL\n",
    "def get_trailer_url(title):\n",
    "    try:\n",
    "        query = f\"{title} official trailer\"\n",
    "\n",
    "        # Look search on Youtube\n",
    "        search = VideosSearch(query, limit=1)\n",
    "        result = search.result()\n",
    "        if result['result']:\n",
    "\n",
    "            # Now I need the link of that seacrh\n",
    "            return result['result'][0]['link']\n",
    "        else:\n",
    "            return None\n",
    "    except Exception:\n",
    "        return None\n",
    "\n",
    "# Fetch trailer URLs and my Progress bar\n",
    "results = []\n",
    "for title in tqdm(unique_titles, desc=\"Fetching trailers\"):\n",
    "    url = get_trailer_url(title)\n",
    "    results.append({'title': title, 'trailer_url': url})\n",
    "\n",
    "    # Avoiding being banned from Youtube, lets set a timer just in case\n",
    "    time.sleep(1) \n",
    "\n",
    "# Saving to 'trailer.csv'\n",
    "# This will be loaded into our official dashboard.py\n",
    "trailers_df = pd.DataFrame(results)\n",
    "trailers_df.to_csv('trailers.csv', index=False)\n",
    "\n",
    "# Finish?\n",
    "print(\"✅ Done!\")"
   ]
  },
  {
   "cell_type": "code",
   "execution_count": null,
   "id": "bf1f1461",
   "metadata": {},
   "outputs": [],
   "source": []
  }
 ],
 "metadata": {
  "kernelspec": {
   "display_name": "Python 3",
   "language": "python",
   "name": "python3"
  },
  "language_info": {
   "codemirror_mode": {
    "name": "ipython",
    "version": 3
   },
   "file_extension": ".py",
   "mimetype": "text/x-python",
   "name": "python",
   "nbconvert_exporter": "python",
   "pygments_lexer": "ipython3",
   "version": "3.11.3"
  }
 },
 "nbformat": 4,
 "nbformat_minor": 5
}
