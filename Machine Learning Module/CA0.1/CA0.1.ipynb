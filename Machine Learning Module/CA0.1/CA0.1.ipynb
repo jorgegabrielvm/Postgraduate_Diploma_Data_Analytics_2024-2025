{
 "cells": [
  {
   "cell_type": "markdown",
   "metadata": {},
   "source": [
    "# Undergraduate Admission Prediction in Bangladesh"
   ]
  },
  {
   "cell_type": "markdown",
   "metadata": {},
   "source": [
    "## Introduction\n",
    "This project aims to predict undergraduate admission in Bangladesh using various factors (E.g.: family economy, social media engagement, and study habits). \n",
    "\n",
    "\n",
    "### - Classification Vs Regression\n",
    "\n",
    "In this project, we will use classification instead of regression because the goal is to predict a discrete outcome. We will study whether or not a student will be admitted in the university. Classification fits more in these of types of problem where our target variable (admission) is categorical or binary (1 for \"admitted\", 0 for \"not admitted\").\n",
    "\n",
    "On the other hand, regression is used when the target variable is continuous and numerical, (E.g: predicting a student's GPA,  the number of study hours, etc...)\n",
    "\n",
    "### - Problem Statement\n",
    "The problem is a binary classification task to predict whether a student will be admitted to an university (1 for admitted, 0 for not admitted) based on various features\n",
    "\n",
    "### - Objective\n",
    "\n",
    "The objective is to apply classification models like Decision Trees, Random Forests to compare their performance and pick the right one."
   ]
  },
  {
   "cell_type": "markdown",
   "metadata": {},
   "source": []
  },
  {
   "cell_type": "markdown",
   "metadata": {},
   "source": [
    "## Questions (?):"
   ]
  },
  {
   "cell_type": "markdown",
   "metadata": {},
   "source": [
    "### - What are the most important features for predicting X as a target variable?\n",
    "Most of this dataset feautures seems to have value but the most significant ones for predicting X would be: Family_Economy, Residence, Social_Media_Engagement, Family_Education, Bad_Habits, School_Location, College_Location, SSC_GPA, HSC_GPA. We will see why these later on along the project. I will do some feature engineering before running the ML algorithms.\n",
    "\n",
    "### - Which classification approach do you prefer for the prediction of X as a target variable, and why?\n",
    "In thise case we will opt for classification instead of regression due to the fact that our target value is a numerical binary, 1 or 0, result. Classification will work better in this case, whereas regression will work out better when trying to bring a continuity output.\n",
    "\n",
    "### - How to classify the loyal and churn customers using Support Vector Machines?\n",
    "To find the optimal hyperplane, SVMs use a mathematical technique called kernel trick. A kernel is a function that transforms the data into a higher-dimensional space, where it is easier to find a linear separation. For example, if the data is not linearly separable in two dimensions, a kernel can map it to a three-dimensional space, where a hyperplane can be found. There are different types of kernels, such as linear, polynomial, radial basis function, and sigmoid, and each one has its own advantages and disadvantages. The choice of kernel depends on the nature and complexity of the data.\n",
    "\n",
    "### - Why is dimensionality reduction important in machine learning?\n",
    "Dimensionality reduction brings many advantages to your machine learning data, including: Fewer features mean less complexity. You will need less storage space because you have fewer data. Fewer features require less computation time.\n",
    "\n",
    "### - What is the purpose of cross-validation in machine learning?\n",
    "Cross-validation is a statistical method used to estimate the performance (or accuracy) of machine learning models. It is used to protect against overfitting in a predictive model, particularly in a case where the amount of data may be limited.\n",
    "\n",
    "### - Why is hyperparameter tuning necessary, and how is it done?\n",
    "Hyperparameters directly control model structure, function, and performance. Hyperparameter tuning allows data scientists to tweak model performance for optimal results. This process is an essential part of machine learning, and choosing appropriate hyperparameter values is crucial for success.\n",
    "Techniques like GridSearchCV or RandomSearchCV are used to find the optimal combination of hyperparameters.\n",
    "It is done by editing the model with Python code.\n",
    "\n",
    "### - How do you address overfitting in machine learning models?\n",
    "Fixing overfitting means preventing the model from learning associations that are specific to the training set. There are two common ways to fix overfitting: modifying the training set or regularizing the model.\n",
    "\n",
    "### - What metrics are used to evaluate the model performance?\n",
    "We have **Regression Metrics** (E.g: Mean Absolute Error, Mean Squared Error, Root Mean Squared Error, R-Squared) and **Classification Metrics** (E.g: Confussion Matrix, Accuracy, Precision, Recall, F1-Score and AUC-ROC)\n"
   ]
  },
  {
   "cell_type": "markdown",
   "metadata": {},
   "source": []
  },
  {
   "cell_type": "markdown",
   "metadata": {},
   "source": [
    "## Data Preparation"
   ]
  },
  {
   "cell_type": "code",
   "execution_count": 2,
   "metadata": {},
   "outputs": [],
   "source": [
    "import pandas as pd\n",
    "import matplotlib.pyplot as plt\n",
    "import seaborn as sns\n",
    "from sklearn.model_selection import train_test_split, GridSearchCV\n",
    "from sklearn.tree import DecisionTreeClassifier\n",
    "from sklearn.metrics import classification_report, accuracy_score, confusion_matrix, precision_score, recall_score, f1_score, RocCurveDisplay, roc_curve, roc_auc_score\n",
    "from sklearn.ensemble import RandomForestClassifier\n",
    "from sklearn.svm import SVC\n",
    "from sklearn.model_selection import cross_val_score\n",
    "\n"
   ]
  },
  {
   "cell_type": "code",
   "execution_count": 3,
   "metadata": {},
   "outputs": [
    {
     "data": {
      "text/html": [
       "<div>\n",
       "<style scoped>\n",
       "    .dataframe tbody tr th:only-of-type {\n",
       "        vertical-align: middle;\n",
       "    }\n",
       "\n",
       "    .dataframe tbody tr th {\n",
       "        vertical-align: top;\n",
       "    }\n",
       "\n",
       "    .dataframe thead th {\n",
       "        text-align: right;\n",
       "    }\n",
       "</style>\n",
       "<table border=\"1\" class=\"dataframe\">\n",
       "  <thead>\n",
       "    <tr style=\"text-align: right;\">\n",
       "      <th></th>\n",
       "      <th>SSC_GPA</th>\n",
       "      <th>HSC_GPA</th>\n",
       "      <th>Family_Economy</th>\n",
       "      <th>Residence</th>\n",
       "      <th>Family_Education</th>\n",
       "      <th>Politics</th>\n",
       "      <th>Social_Media_Engagement</th>\n",
       "      <th>Residence_with_Family</th>\n",
       "      <th>Duration_of_Study</th>\n",
       "      <th>College_Location</th>\n",
       "      <th>School_Location</th>\n",
       "      <th>Bad_Habits</th>\n",
       "      <th>Relationship</th>\n",
       "      <th>External_Factors</th>\n",
       "      <th>University</th>\n",
       "    </tr>\n",
       "  </thead>\n",
       "  <tbody>\n",
       "    <tr>\n",
       "      <th>0</th>\n",
       "      <td>5.0</td>\n",
       "      <td>4.67</td>\n",
       "      <td>2</td>\n",
       "      <td>1</td>\n",
       "      <td>1</td>\n",
       "      <td>1</td>\n",
       "      <td>4</td>\n",
       "      <td>0</td>\n",
       "      <td>4</td>\n",
       "      <td>1</td>\n",
       "      <td>0</td>\n",
       "      <td>0</td>\n",
       "      <td>0</td>\n",
       "      <td>1</td>\n",
       "      <td>0</td>\n",
       "    </tr>\n",
       "    <tr>\n",
       "      <th>1</th>\n",
       "      <td>5.0</td>\n",
       "      <td>5.00</td>\n",
       "      <td>3</td>\n",
       "      <td>1</td>\n",
       "      <td>1</td>\n",
       "      <td>0</td>\n",
       "      <td>5</td>\n",
       "      <td>0</td>\n",
       "      <td>6</td>\n",
       "      <td>1</td>\n",
       "      <td>0</td>\n",
       "      <td>0</td>\n",
       "      <td>1</td>\n",
       "      <td>1</td>\n",
       "      <td>1</td>\n",
       "    </tr>\n",
       "    <tr>\n",
       "      <th>2</th>\n",
       "      <td>5.0</td>\n",
       "      <td>4.44</td>\n",
       "      <td>2</td>\n",
       "      <td>0</td>\n",
       "      <td>1</td>\n",
       "      <td>0</td>\n",
       "      <td>1</td>\n",
       "      <td>1</td>\n",
       "      <td>2</td>\n",
       "      <td>0</td>\n",
       "      <td>0</td>\n",
       "      <td>0</td>\n",
       "      <td>0</td>\n",
       "      <td>0</td>\n",
       "      <td>0</td>\n",
       "    </tr>\n",
       "    <tr>\n",
       "      <th>3</th>\n",
       "      <td>5.0</td>\n",
       "      <td>5.00</td>\n",
       "      <td>2</td>\n",
       "      <td>1</td>\n",
       "      <td>1</td>\n",
       "      <td>0</td>\n",
       "      <td>1</td>\n",
       "      <td>1</td>\n",
       "      <td>2</td>\n",
       "      <td>1</td>\n",
       "      <td>1</td>\n",
       "      <td>0</td>\n",
       "      <td>0</td>\n",
       "      <td>0</td>\n",
       "      <td>1</td>\n",
       "    </tr>\n",
       "    <tr>\n",
       "      <th>4</th>\n",
       "      <td>5.0</td>\n",
       "      <td>5.00</td>\n",
       "      <td>2</td>\n",
       "      <td>1</td>\n",
       "      <td>1</td>\n",
       "      <td>0</td>\n",
       "      <td>1</td>\n",
       "      <td>0</td>\n",
       "      <td>2</td>\n",
       "      <td>1</td>\n",
       "      <td>1</td>\n",
       "      <td>0</td>\n",
       "      <td>0</td>\n",
       "      <td>0</td>\n",
       "      <td>1</td>\n",
       "    </tr>\n",
       "  </tbody>\n",
       "</table>\n",
       "</div>"
      ],
      "text/plain": [
       "   SSC_GPA  HSC_GPA  Family_Economy  Residence  Family_Education  Politics   \n",
       "0      5.0     4.67               2          1                 1         1  \\\n",
       "1      5.0     5.00               3          1                 1         0   \n",
       "2      5.0     4.44               2          0                 1         0   \n",
       "3      5.0     5.00               2          1                 1         0   \n",
       "4      5.0     5.00               2          1                 1         0   \n",
       "\n",
       "   Social_Media_Engagement  Residence_with_Family  Duration_of_Study   \n",
       "0                        4                      0                  4  \\\n",
       "1                        5                      0                  6   \n",
       "2                        1                      1                  2   \n",
       "3                        1                      1                  2   \n",
       "4                        1                      0                  2   \n",
       "\n",
       "   College_Location  School_Location  Bad_Habits  Relationship   \n",
       "0                 1                0           0             0  \\\n",
       "1                 1                0           0             1   \n",
       "2                 0                0           0             0   \n",
       "3                 1                1           0             0   \n",
       "4                 1                1           0             0   \n",
       "\n",
       "   External_Factors  University  \n",
       "0                 1           0  \n",
       "1                 1           1  \n",
       "2                 0           0  \n",
       "3                 0           1  \n",
       "4                 0           1  "
      ]
     },
     "execution_count": 3,
     "metadata": {},
     "output_type": "execute_result"
    }
   ],
   "source": [
    "# Load dataset\n",
    "df = pd.read_csv('Undergraduate Admission Test Survey in Bangladesh.csv')\n",
    "\n",
    "# Show first few rows\n",
    "df.head()"
   ]
  },
  {
   "cell_type": "markdown",
   "metadata": {},
   "source": [
    "Based on the table:\n",
    "\n",
    "- 1 means Yes\n",
    "- 0 means No\n",
    "\n",
    "Social_Media_Engagement = Hrs\n",
    "\n",
    "Duration_of_Study = Years"
   ]
  },
  {
   "cell_type": "markdown",
   "metadata": {},
   "source": []
  },
  {
   "cell_type": "markdown",
   "metadata": {},
   "source": [
    "## Data Exploration\n",
    "Let's explore the dataset to understand the features, check for missing values, and look at the distributions of the target variable."
   ]
  },
  {
   "cell_type": "code",
   "execution_count": 4,
   "metadata": {},
   "outputs": [
    {
     "name": "stdout",
     "output_type": "stream",
     "text": [
      "<class 'pandas.core.frame.DataFrame'>\n",
      "RangeIndex: 600 entries, 0 to 599\n",
      "Data columns (total 15 columns):\n",
      " #   Column                   Non-Null Count  Dtype  \n",
      "---  ------                   --------------  -----  \n",
      " 0   SSC_GPA                  600 non-null    float64\n",
      " 1   HSC_GPA                  597 non-null    float64\n",
      " 2   Family_Economy           600 non-null    int64  \n",
      " 3   Residence                600 non-null    int64  \n",
      " 4   Family_Education         600 non-null    int64  \n",
      " 5   Politics                 600 non-null    int64  \n",
      " 6   Social_Media_Engagement  600 non-null    int64  \n",
      " 7   Residence_with_Family    600 non-null    int64  \n",
      " 8   Duration_of_Study        600 non-null    int64  \n",
      " 9   College_Location         600 non-null    int64  \n",
      " 10  School_Location          600 non-null    int64  \n",
      " 11  Bad_Habits               600 non-null    int64  \n",
      " 12  Relationship             600 non-null    int64  \n",
      " 13  External_Factors         600 non-null    int64  \n",
      " 14  University               600 non-null    int64  \n",
      "dtypes: float64(2), int64(13)\n",
      "memory usage: 70.4 KB\n"
     ]
    }
   ],
   "source": [
    "# Basic information and statistics\n",
    "df.info()"
   ]
  },
  {
   "cell_type": "code",
   "execution_count": 5,
   "metadata": {},
   "outputs": [
    {
     "data": {
      "text/html": [
       "<div>\n",
       "<style scoped>\n",
       "    .dataframe tbody tr th:only-of-type {\n",
       "        vertical-align: middle;\n",
       "    }\n",
       "\n",
       "    .dataframe tbody tr th {\n",
       "        vertical-align: top;\n",
       "    }\n",
       "\n",
       "    .dataframe thead th {\n",
       "        text-align: right;\n",
       "    }\n",
       "</style>\n",
       "<table border=\"1\" class=\"dataframe\">\n",
       "  <thead>\n",
       "    <tr style=\"text-align: right;\">\n",
       "      <th></th>\n",
       "      <th>SSC_GPA</th>\n",
       "      <th>HSC_GPA</th>\n",
       "      <th>Family_Economy</th>\n",
       "      <th>Residence</th>\n",
       "      <th>Family_Education</th>\n",
       "      <th>Politics</th>\n",
       "      <th>Social_Media_Engagement</th>\n",
       "      <th>Residence_with_Family</th>\n",
       "      <th>Duration_of_Study</th>\n",
       "      <th>College_Location</th>\n",
       "      <th>School_Location</th>\n",
       "      <th>Bad_Habits</th>\n",
       "      <th>Relationship</th>\n",
       "      <th>External_Factors</th>\n",
       "      <th>University</th>\n",
       "    </tr>\n",
       "  </thead>\n",
       "  <tbody>\n",
       "    <tr>\n",
       "      <th>count</th>\n",
       "      <td>600.000000</td>\n",
       "      <td>597.000000</td>\n",
       "      <td>600.000000</td>\n",
       "      <td>600.000000</td>\n",
       "      <td>600.000000</td>\n",
       "      <td>600.000000</td>\n",
       "      <td>600.000000</td>\n",
       "      <td>600.000000</td>\n",
       "      <td>600.000000</td>\n",
       "      <td>600.000000</td>\n",
       "      <td>600.000000</td>\n",
       "      <td>600.000000</td>\n",
       "      <td>600.000000</td>\n",
       "      <td>600.000000</td>\n",
       "      <td>600.000000</td>\n",
       "    </tr>\n",
       "    <tr>\n",
       "      <th>mean</th>\n",
       "      <td>4.853467</td>\n",
       "      <td>4.793032</td>\n",
       "      <td>2.673333</td>\n",
       "      <td>0.816667</td>\n",
       "      <td>0.866667</td>\n",
       "      <td>0.031667</td>\n",
       "      <td>2.828333</td>\n",
       "      <td>0.633333</td>\n",
       "      <td>5.586667</td>\n",
       "      <td>0.906667</td>\n",
       "      <td>0.653333</td>\n",
       "      <td>0.066667</td>\n",
       "      <td>0.231667</td>\n",
       "      <td>0.486667</td>\n",
       "      <td>0.566667</td>\n",
       "    </tr>\n",
       "    <tr>\n",
       "      <th>std</th>\n",
       "      <td>0.322999</td>\n",
       "      <td>0.382941</td>\n",
       "      <td>0.887657</td>\n",
       "      <td>0.387262</td>\n",
       "      <td>0.340218</td>\n",
       "      <td>0.175257</td>\n",
       "      <td>1.327328</td>\n",
       "      <td>0.482296</td>\n",
       "      <td>2.045188</td>\n",
       "      <td>0.291142</td>\n",
       "      <td>0.476306</td>\n",
       "      <td>0.249652</td>\n",
       "      <td>0.422249</td>\n",
       "      <td>0.500239</td>\n",
       "      <td>0.495949</td>\n",
       "    </tr>\n",
       "    <tr>\n",
       "      <th>min</th>\n",
       "      <td>2.990000</td>\n",
       "      <td>3.170000</td>\n",
       "      <td>1.000000</td>\n",
       "      <td>0.000000</td>\n",
       "      <td>0.000000</td>\n",
       "      <td>0.000000</td>\n",
       "      <td>1.000000</td>\n",
       "      <td>0.000000</td>\n",
       "      <td>2.000000</td>\n",
       "      <td>0.000000</td>\n",
       "      <td>0.000000</td>\n",
       "      <td>0.000000</td>\n",
       "      <td>0.000000</td>\n",
       "      <td>0.000000</td>\n",
       "      <td>0.000000</td>\n",
       "    </tr>\n",
       "    <tr>\n",
       "      <th>25%</th>\n",
       "      <td>4.890000</td>\n",
       "      <td>4.750000</td>\n",
       "      <td>2.000000</td>\n",
       "      <td>1.000000</td>\n",
       "      <td>1.000000</td>\n",
       "      <td>0.000000</td>\n",
       "      <td>1.000000</td>\n",
       "      <td>0.000000</td>\n",
       "      <td>4.000000</td>\n",
       "      <td>1.000000</td>\n",
       "      <td>0.000000</td>\n",
       "      <td>0.000000</td>\n",
       "      <td>0.000000</td>\n",
       "      <td>0.000000</td>\n",
       "      <td>0.000000</td>\n",
       "    </tr>\n",
       "    <tr>\n",
       "      <th>50%</th>\n",
       "      <td>5.000000</td>\n",
       "      <td>5.000000</td>\n",
       "      <td>3.000000</td>\n",
       "      <td>1.000000</td>\n",
       "      <td>1.000000</td>\n",
       "      <td>0.000000</td>\n",
       "      <td>3.000000</td>\n",
       "      <td>1.000000</td>\n",
       "      <td>6.000000</td>\n",
       "      <td>1.000000</td>\n",
       "      <td>1.000000</td>\n",
       "      <td>0.000000</td>\n",
       "      <td>0.000000</td>\n",
       "      <td>0.000000</td>\n",
       "      <td>1.000000</td>\n",
       "    </tr>\n",
       "    <tr>\n",
       "      <th>75%</th>\n",
       "      <td>5.000000</td>\n",
       "      <td>5.000000</td>\n",
       "      <td>3.000000</td>\n",
       "      <td>1.000000</td>\n",
       "      <td>1.000000</td>\n",
       "      <td>0.000000</td>\n",
       "      <td>4.000000</td>\n",
       "      <td>1.000000</td>\n",
       "      <td>8.000000</td>\n",
       "      <td>1.000000</td>\n",
       "      <td>1.000000</td>\n",
       "      <td>0.000000</td>\n",
       "      <td>0.000000</td>\n",
       "      <td>1.000000</td>\n",
       "      <td>1.000000</td>\n",
       "    </tr>\n",
       "    <tr>\n",
       "      <th>max</th>\n",
       "      <td>5.000000</td>\n",
       "      <td>5.000000</td>\n",
       "      <td>4.000000</td>\n",
       "      <td>1.000000</td>\n",
       "      <td>1.000000</td>\n",
       "      <td>1.000000</td>\n",
       "      <td>5.000000</td>\n",
       "      <td>1.000000</td>\n",
       "      <td>8.000000</td>\n",
       "      <td>1.000000</td>\n",
       "      <td>1.000000</td>\n",
       "      <td>1.000000</td>\n",
       "      <td>1.000000</td>\n",
       "      <td>1.000000</td>\n",
       "      <td>1.000000</td>\n",
       "    </tr>\n",
       "  </tbody>\n",
       "</table>\n",
       "</div>"
      ],
      "text/plain": [
       "          SSC_GPA     HSC_GPA  Family_Economy   Residence  Family_Education   \n",
       "count  600.000000  597.000000      600.000000  600.000000        600.000000  \\\n",
       "mean     4.853467    4.793032        2.673333    0.816667          0.866667   \n",
       "std      0.322999    0.382941        0.887657    0.387262          0.340218   \n",
       "min      2.990000    3.170000        1.000000    0.000000          0.000000   \n",
       "25%      4.890000    4.750000        2.000000    1.000000          1.000000   \n",
       "50%      5.000000    5.000000        3.000000    1.000000          1.000000   \n",
       "75%      5.000000    5.000000        3.000000    1.000000          1.000000   \n",
       "max      5.000000    5.000000        4.000000    1.000000          1.000000   \n",
       "\n",
       "         Politics  Social_Media_Engagement  Residence_with_Family   \n",
       "count  600.000000               600.000000             600.000000  \\\n",
       "mean     0.031667                 2.828333               0.633333   \n",
       "std      0.175257                 1.327328               0.482296   \n",
       "min      0.000000                 1.000000               0.000000   \n",
       "25%      0.000000                 1.000000               0.000000   \n",
       "50%      0.000000                 3.000000               1.000000   \n",
       "75%      0.000000                 4.000000               1.000000   \n",
       "max      1.000000                 5.000000               1.000000   \n",
       "\n",
       "       Duration_of_Study  College_Location  School_Location  Bad_Habits   \n",
       "count         600.000000        600.000000       600.000000  600.000000  \\\n",
       "mean            5.586667          0.906667         0.653333    0.066667   \n",
       "std             2.045188          0.291142         0.476306    0.249652   \n",
       "min             2.000000          0.000000         0.000000    0.000000   \n",
       "25%             4.000000          1.000000         0.000000    0.000000   \n",
       "50%             6.000000          1.000000         1.000000    0.000000   \n",
       "75%             8.000000          1.000000         1.000000    0.000000   \n",
       "max             8.000000          1.000000         1.000000    1.000000   \n",
       "\n",
       "       Relationship  External_Factors  University  \n",
       "count    600.000000        600.000000  600.000000  \n",
       "mean       0.231667          0.486667    0.566667  \n",
       "std        0.422249          0.500239    0.495949  \n",
       "min        0.000000          0.000000    0.000000  \n",
       "25%        0.000000          0.000000    0.000000  \n",
       "50%        0.000000          0.000000    1.000000  \n",
       "75%        0.000000          1.000000    1.000000  \n",
       "max        1.000000          1.000000    1.000000  "
      ]
     },
     "execution_count": 5,
     "metadata": {},
     "output_type": "execute_result"
    }
   ],
   "source": [
    "df.describe()"
   ]
  },
  {
   "cell_type": "code",
   "execution_count": 6,
   "metadata": {},
   "outputs": [
    {
     "data": {
      "text/plain": [
       "SSC_GPA                    0\n",
       "HSC_GPA                    3\n",
       "Family_Economy             0\n",
       "Residence                  0\n",
       "Family_Education           0\n",
       "Politics                   0\n",
       "Social_Media_Engagement    0\n",
       "Residence_with_Family      0\n",
       "Duration_of_Study          0\n",
       "College_Location           0\n",
       "School_Location            0\n",
       "Bad_Habits                 0\n",
       "Relationship               0\n",
       "External_Factors           0\n",
       "University                 0\n",
       "dtype: int64"
      ]
     },
     "execution_count": 6,
     "metadata": {},
     "output_type": "execute_result"
    }
   ],
   "source": [
    "# Check for missing values\n",
    "df.isnull().sum()"
   ]
  },
  {
   "cell_type": "markdown",
   "metadata": {},
   "source": [
    "HSC_GPA has some missing values. Because we are dealing with numerical values a best practices to deal with these null values is to take the mean, media, or mode and place it in the row instead\n",
    "\n",
    "In this case I will use mean"
   ]
  },
  {
   "cell_type": "code",
   "execution_count": 7,
   "metadata": {},
   "outputs": [
    {
     "data": {
      "text/plain": [
       "SSC_GPA                    0\n",
       "HSC_GPA                    0\n",
       "Family_Economy             0\n",
       "Residence                  0\n",
       "Family_Education           0\n",
       "Politics                   0\n",
       "Social_Media_Engagement    0\n",
       "Residence_with_Family      0\n",
       "Duration_of_Study          0\n",
       "College_Location           0\n",
       "School_Location            0\n",
       "Bad_Habits                 0\n",
       "Relationship               0\n",
       "External_Factors           0\n",
       "University                 0\n",
       "dtype: int64"
      ]
     },
     "execution_count": 7,
     "metadata": {},
     "output_type": "execute_result"
    }
   ],
   "source": [
    "df['HSC_GPA'].fillna(df['HSC_GPA'].mean(), inplace=True)\n",
    "\n",
    "# Verify\n",
    "df.isnull().sum()"
   ]
  },
  {
   "cell_type": "code",
   "execution_count": 8,
   "metadata": {},
   "outputs": [
    {
     "data": {
      "image/png": "[encoded data removed]",
      "text/plain": [
       "<Figure size 640x480 with 1 Axes>"
      ]
     },
     "metadata": {},
     "output_type": "display_data"
    }
   ],
   "source": [
    "# Target variable distribution\n",
    "sns.countplot(x='University', data=df)\n",
    "plt.title('Distribution of University Admission')\n",
    "plt.show()"
   ]
  },
  {
   "cell_type": "markdown",
   "metadata": {},
   "source": [
    "It is nice that more than half of students gets admitted into the university based on this dataset."
   ]
  },
  {
   "cell_type": "markdown",
   "metadata": {},
   "source": [
    "## Feature Selection\n",
    "For this project we will use the following features:\n",
    "- Family_Economy\n",
    "- Residence\n",
    "- Social_Media_Engagement\n",
    "- Family_Education\n",
    "- Bad_Habits\n",
    "- School_Location\n",
    "- College_Location\n",
    "\n",
    "These are the ones that draw my attention and I want to see how much impact these have in the student\n",
    "\n",
    "But, statistical speaking I will add:\n",
    "- SSC_GPA                   \n",
    "- HSC_GPA\n",
    "\n",
    "After \"df.describe()\" These ones were better spread out among the metrics, showing that they do have an impact in this dataset."
   ]
  },
  {
   "cell_type": "code",
   "execution_count": 9,
   "metadata": {},
   "outputs": [],
   "source": [
    "# Relevant features selection\n",
    "selected_features = ['Family_Economy', 'Residence', 'Social_Media_Engagement', \n",
    "                     'Family_Education', 'Bad_Habits', 'School_Location', 'College_Location', 'HSC_GPA', 'SSC_GPA']\n",
    "\n",
    "# Target\n",
    "target_variable = 'University'\n",
    "\n",
    "X = df[selected_features]\n",
    "y = df[target_variable]"
   ]
  },
  {
   "cell_type": "markdown",
   "metadata": {},
   "source": []
  },
  {
   "cell_type": "markdown",
   "metadata": {},
   "source": [
    "## Data Preprocessing\n",
    "We will now split the dataset into training and testing sets. We will split it in two as best practices"
   ]
  },
  {
   "cell_type": "code",
   "execution_count": 10,
   "metadata": {},
   "outputs": [
    {
     "name": "stdout",
     "output_type": "stream",
     "text": [
      "Training set:\n",
      " University\n",
      "1    238\n",
      "0    182\n",
      "Name: count, dtype: int64\n",
      "\n",
      "Test set:\n",
      " University\n",
      "1    102\n",
      "0     78\n",
      "Name: count, dtype: int64\n"
     ]
    }
   ],
   "source": [
    "# 70% training, 30% testing.\n",
    "X_train, X_test, y_train, y_test = train_test_split(X, y, test_size=0.3, random_state=42, stratify=y)\n",
    "\n",
    "# Checking the split\n",
    "print(\"Training set:\\n\", y_train.value_counts())\n",
    "print(\"\\nTest set:\\n\", y_test.value_counts())\n"
   ]
  },
  {
   "cell_type": "code",
   "execution_count": 11,
   "metadata": {},
   "outputs": [
    {
     "data": {
      "text/plain": [
       "((600, 9), (600,), (420, 9), (180, 9), (420,), (180,))"
      ]
     },
     "execution_count": 11,
     "metadata": {},
     "output_type": "execute_result"
    }
   ],
   "source": [
    "X.shape, y.shape, X_train.shape, X_test.shape, y_train.shape, y_test.shape"
   ]
  },
  {
   "cell_type": "markdown",
   "metadata": {},
   "source": []
  },
  {
   "cell_type": "markdown",
   "metadata": {},
   "source": [
    "## Model Development\n",
    "\n",
    "### - First Part\n",
    "\n",
    "Here, we will run these models:\n",
    "\n",
    "- Decision Tree \n",
    "- Random Forest\n",
    "- SVM\n",
    "- Tuning with GridSearchCV\n",
    "\n",
    "After that, by analysing pure model performance we will show a **pre cross validation conclusion**.\n",
    "\n",
    "### - Second Part\n",
    "\n",
    "Before giving our final conclusion, now we will apply Cross Validations Metrics.\n",
    "\n",
    "### - Third Part\n",
    "\n",
    "Our last analysis attempt for this case study will be in a form of visualizations.\n",
    "\n",
    "### - Final Thoughts\n",
    "\n",
    "Based on a combination of these three, at this stage, we will evaluate each model performance and give our final **conclusion**.\n",
    "\n",
    "\n"
   ]
  },
  {
   "cell_type": "markdown",
   "metadata": {},
   "source": []
  },
  {
   "cell_type": "markdown",
   "metadata": {},
   "source": [
    "## **First Part**"
   ]
  },
  {
   "cell_type": "markdown",
   "metadata": {},
   "source": []
  },
  {
   "cell_type": "markdown",
   "metadata": {},
   "source": [
    "## Decision Tree Classifier\n",
    "We'll begin by training a Decision Tree model and evaluating its performance."
   ]
  },
  {
   "cell_type": "code",
   "execution_count": 12,
   "metadata": {},
   "outputs": [
    {
     "name": "stdout",
     "output_type": "stream",
     "text": [
      "Decision Tree Accuracy: 0.7611\n",
      "\n",
      "Classification Report:               precision    recall  f1-score   support\n",
      "\n",
      "           0       0.74      0.69      0.72        78\n",
      "           1       0.78      0.81      0.79       102\n",
      "\n",
      "    accuracy                           0.76       180\n",
      "   macro avg       0.76      0.75      0.75       180\n",
      "weighted avg       0.76      0.76      0.76       180\n",
      "\n"
     ]
    }
   ],
   "source": [
    "# Initialize\n",
    "dt_classifier = DecisionTreeClassifier(random_state=42)\n",
    "\n",
    "# Train\n",
    "dt_classifier.fit(X_train, y_train)\n",
    "\n",
    "# Prediction on test\n",
    "y_pred_dt = dt_classifier.predict(X_test)\n",
    "\n",
    "# Evaluation\n",
    "accuracy_dt = accuracy_score(y_test, y_pred_dt)\n",
    "conf_matrix_dt = confusion_matrix(y_test, y_pred_dt)\n",
    "class_report_dt = classification_report(y_test, y_pred_dt)\n",
    "\n",
    "# Printing results\n",
    "print(f\"Decision Tree Accuracy: {accuracy_dt:.4f}\")\n",
    "print(\"\\nClassification Report:\", class_report_dt)"
   ]
  },
  {
   "cell_type": "markdown",
   "metadata": {},
   "source": []
  },
  {
   "cell_type": "markdown",
   "metadata": {},
   "source": [
    "## Random Forest Classifier\n",
    "Next, let's train a Random Forest model and compare its performance.\n"
   ]
  },
  {
   "cell_type": "code",
   "execution_count": 13,
   "metadata": {},
   "outputs": [
    {
     "name": "stdout",
     "output_type": "stream",
     "text": [
      "Random Forest Accuracy: 0.8000\n",
      "\n",
      "Classification Report:               precision    recall  f1-score   support\n",
      "\n",
      "           0       0.77      0.77      0.77        78\n",
      "           1       0.82      0.82      0.82       102\n",
      "\n",
      "    accuracy                           0.80       180\n",
      "   macro avg       0.80      0.80      0.80       180\n",
      "weighted avg       0.80      0.80      0.80       180\n",
      "\n"
     ]
    }
   ],
   "source": [
    "# Initialize\n",
    "rf_classifier = RandomForestClassifier(random_state=42)\n",
    "\n",
    "# Train\n",
    "rf_classifier.fit(X_train, y_train)\n",
    "\n",
    "# Prediction in test\n",
    "y_pred_rf = rf_classifier.predict(X_test)\n",
    "\n",
    "# Evaluation\n",
    "accuracy_rf = accuracy_score(y_test, y_pred_rf)\n",
    "conf_matrix_rf = confusion_matrix(y_test, y_pred_rf)\n",
    "class_report_rf = classification_report(y_test, y_pred_rf)\n",
    "\n",
    "# Printing results\n",
    "print(f\"Random Forest Accuracy: {accuracy_rf:.4f}\")\n",
    "print(\"\\nClassification Report:\", class_report_rf)\n"
   ]
  },
  {
   "cell_type": "markdown",
   "metadata": {},
   "source": []
  },
  {
   "cell_type": "markdown",
   "metadata": {},
   "source": [
    "## SVM Classifier"
   ]
  },
  {
   "cell_type": "code",
   "execution_count": 14,
   "metadata": {},
   "outputs": [
    {
     "name": "stdout",
     "output_type": "stream",
     "text": [
      "SVM Accuracy:  0.8\n",
      "\n",
      "SVM Classification Report:               precision    recall  f1-score   support\n",
      "\n",
      "           0       0.86      0.64      0.74        78\n",
      "           1       0.77      0.92      0.84       102\n",
      "\n",
      "    accuracy                           0.80       180\n",
      "   macro avg       0.82      0.78      0.79       180\n",
      "weighted avg       0.81      0.80      0.79       180\n",
      "\n"
     ]
    }
   ],
   "source": [
    "# Initialize\n",
    "svm_classifier = SVC(kernel='linear', random_state=42)\n",
    "\n",
    "# Train\n",
    "svm_classifier.fit(X_train, y_train)\n",
    "\n",
    "# Predictions on test\n",
    "y_pred_svm = svm_classifier.predict(X_test)\n",
    "\n",
    "# Evaluation and Printing\n",
    "print(\"SVM Accuracy: \", accuracy_score(y_test, y_pred_svm))\n",
    "print(\"\\nSVM Classification Report:\", classification_report(y_test, y_pred_svm))\n"
   ]
  },
  {
   "cell_type": "markdown",
   "metadata": {},
   "source": []
  },
  {
   "cell_type": "markdown",
   "metadata": {},
   "source": [
    "## Hyperparameter Tuning with GridSearchCV\n",
    "We'll use GridSearchCV to tune the hyperparameters of the SVM  model and improve its performance."
   ]
  },
  {
   "cell_type": "code",
   "execution_count": 15,
   "metadata": {},
   "outputs": [
    {
     "name": "stdout",
     "output_type": "stream",
     "text": [
      "Best parameters from GridSearchCV: {'C': 0.1, 'gamma': 'auto', 'kernel': 'poly'}\n",
      "Best SVM Classification Report:\n",
      "               precision    recall  f1-score   support\n",
      "\n",
      "           0       0.82      0.69      0.75        78\n",
      "           1       0.79      0.88      0.83       102\n",
      "\n",
      "    accuracy                           0.80       180\n",
      "   macro avg       0.80      0.79      0.79       180\n",
      "weighted avg       0.80      0.80      0.80       180\n",
      "\n",
      "Best SVM Accuracy:  0.8\n"
     ]
    }
   ],
   "source": [
    "# Tunning with GridSearchCV, lets do what internet recomended me.\n",
    "param_grid = {\n",
    "    'C': [0.1, 1, 10, 100],\n",
    "    'kernel': ['linear', 'rbf', 'poly'],\n",
    "    'gamma': ['scale', 'auto']\n",
    "}\n",
    "\n",
    "# Initialize GridSearchCV\n",
    "grid_search = GridSearchCV(SVC(), param_grid, cv=5, scoring='accuracy')\n",
    "\n",
    "# Training data\n",
    "grid_search.fit(X_train, y_train)\n",
    "\n",
    "# Best parameters\n",
    "print(\"Best parameters from GridSearchCV:\", grid_search.best_params_)\n",
    "\n",
    "# Taking the best\n",
    "best_svm = grid_search.best_estimator_\n",
    "\n",
    "# Best predictions on the test data\n",
    "y_pred_best_svm = best_svm.predict(X_test)\n",
    "\n",
    "# Evaluation of tuned SVM\n",
    "print(\"Best SVM Classification Report:\\n\", classification_report(y_test, y_pred_best_svm))\n",
    "print(\"Best SVM Accuracy: \", accuracy_score(y_test, y_pred_best_svm))"
   ]
  },
  {
   "cell_type": "markdown",
   "metadata": {},
   "source": []
  },
  {
   "cell_type": "markdown",
   "metadata": {},
   "source": [
    "## Initial Model Comparison and Conclusion (before Cross validations)\n",
    "We have trained multiple models and one with tuned hyperparameters. Let's compare their performance and choose the best model for predicting university admission.\n",
    "\n",
    "- **Decision Tree**: Initial accuracy was 0.7611.\n",
    "- **Random Forest**: Initial accuracy was 0.8.\n",
    "- **SVM**: Initial accuracy was 0.8.\n",
    "- **Tuned SVM**: After hyperparameter tuning, accuracy was 0.8.\n",
    "\n",
    "Based on these results, we cannot recommend **any** model above the other in predicting undergraduate admission in Bangladesh.\n"
   ]
  },
  {
   "cell_type": "markdown",
   "metadata": {},
   "source": []
  },
  {
   "cell_type": "markdown",
   "metadata": {},
   "source": [
    "## **Second Part : Cross Validation Metrics**"
   ]
  },
  {
   "cell_type": "markdown",
   "metadata": {},
   "source": []
  },
  {
   "cell_type": "markdown",
   "metadata": {},
   "source": [
    "## Bias-Variance Tradeoff and Overfitting/Underfitting\n",
    "Let's see how bias-variance tradeoff affects our model performance and check if overfitting or underfitting."
   ]
  },
  {
   "cell_type": "code",
   "execution_count": 16,
   "metadata": {},
   "outputs": [
    {
     "name": "stdout",
     "output_type": "stream",
     "text": [
      "Decision Tree Training Accuracy: 0.9238\n",
      "Decision Tree Test Accuracy: 0.7611\n",
      "\n",
      "Random Forest Training Accuracy: 0.9238\n",
      "Random Forest Test Accuracy: 0.8000\n",
      "\n",
      "SVM Training Accuracy: 0.7810\n",
      "SVM Test Accuracy: 0.8000\n",
      "\n",
      "Tuned SVM Training Accuracy: 0.8119\n",
      "Tuned SVM Test Accuracy: 0.8000\n"
     ]
    }
   ],
   "source": [
    "# Training and test accuracies for Decision Tree\n",
    "train_accuracy_dt = dt_classifier.score(X_train, y_train)\n",
    "test_accuracy_dt = accuracy_score(y_test, y_pred_dt)\n",
    "\n",
    "print(f\"Decision Tree Training Accuracy: {train_accuracy_dt:.4f}\")\n",
    "print(f\"Decision Tree Test Accuracy: {test_accuracy_dt:.4f}\")\n",
    "\n",
    "# Training and test accuracies for Random Forest\n",
    "train_accuracy_rf = rf_classifier.score(X_train, y_train)\n",
    "test_accuracy_rf = accuracy_score(y_test, y_pred_rf)\n",
    "\n",
    "print(f\"\\nRandom Forest Training Accuracy: {train_accuracy_rf:.4f}\")\n",
    "print(f\"Random Forest Test Accuracy: {test_accuracy_rf:.4f}\")\n",
    "\n",
    "# Training and test accuracies for SVM\n",
    "train_accuracy_svm = svm_classifier.score(X_train, y_train)\n",
    "test_accuracy_svm = accuracy_score(y_test, y_pred_svm)\n",
    "\n",
    "print(f\"\\nSVM Training Accuracy: {train_accuracy_svm:.4f}\")\n",
    "print(f\"SVM Test Accuracy: {test_accuracy_svm:.4f}\")\n",
    "\n",
    "# Training and test accuracies for Tuned SVM\n",
    "train_accuracy_tuned_svm = best_svm.score(X_train, y_train)\n",
    "test_accuracy_tuned_svm = accuracy_score(y_test, y_pred_best_svm)\n",
    "\n",
    "print(f\"\\nTuned SVM Training Accuracy: {train_accuracy_tuned_svm:.4f}\")\n",
    "print(f\"Tuned SVM Test Accuracy: {test_accuracy_tuned_svm:.4f}\")"
   ]
  },
  {
   "cell_type": "markdown",
   "metadata": {},
   "source": [
    "High bias, **Underfitting**, seems to be a problem in this dataset, let me explain. All models performed better in the train set than in the test set, which is a sign of Underfitting. Let's continue with the K-Fold Cross validation to study them more.\n",
    "\n",
    "**Random Forest** has the best performance in this case"
   ]
  },
  {
   "cell_type": "markdown",
   "metadata": {},
   "source": []
  },
  {
   "cell_type": "markdown",
   "metadata": {},
   "source": [
    "## K-Fold Cross-Validation\n",
    "We will now implement k-fold cross-validation to evaluate our models to ensure that the model's performance is consistent across different splits of the data. Tn this case we will use the 5-fold cross-validation."
   ]
  },
  {
   "cell_type": "code",
   "execution_count": 17,
   "metadata": {},
   "outputs": [
    {
     "name": "stdout",
     "output_type": "stream",
     "text": [
      "Decision Tree 5-Fold CV Accuracy:\n",
      "Mean = 0.7383 std = 0.0655\n",
      "\n",
      "Random Forest 5-Fold CV Accuracy:\n",
      "Mean = 0.7667 std = 0.0705\n",
      "\n",
      "SVM 5-Fold CV Accuracy:\n",
      "Mean 0.7483 std =  0.0721\n",
      "\n",
      "Tuned SVM 5-Fold CV Accuracy:\n",
      "Mean 0.7583 std =  0.0778\n"
     ]
    }
   ],
   "source": [
    "# 5-fold cross-validations\n",
    "cv_scores_dt = cross_val_score(dt_classifier, X, y, cv=5, scoring='accuracy')\n",
    "cv_scores_rf = cross_val_score(rf_classifier, X, y, cv=5, scoring='accuracy')\n",
    "cv_scores_svm = cross_val_score(svm_classifier, X, y, cv=5, scoring='accuracy')\n",
    "cv_scores_tuned_svm = cross_val_score(best_svm, X, y, cv=5, scoring='accuracy')\n",
    "\n",
    "\n",
    "# Results (Mean and Standard Deviation)\n",
    "print(f\"Decision Tree 5-Fold CV Accuracy:\\nMean = {cv_scores_dt.mean():.4f} std = {cv_scores_dt.std():.4f}\")\n",
    "print(f\"\\nRandom Forest 5-Fold CV Accuracy:\\nMean = {cv_scores_rf.mean():.4f} std = {cv_scores_rf.std():.4f}\")\n",
    "print(f\"\\nSVM 5-Fold CV Accuracy:\\nMean {cv_scores_svm.mean():.4f} std =  {cv_scores_svm.std():.4f}\")\n",
    "print(f\"\\nTuned SVM 5-Fold CV Accuracy:\\nMean {cv_scores_tuned_svm.mean():.4f} std =  {cv_scores_tuned_svm.std():.4f}\")"
   ]
  },
  {
   "cell_type": "markdown",
   "metadata": {},
   "source": [
    "The average accuracy across all 5 folds seems to be better for the **Random forest**, whereas the low number in std in the Decision Tree seems to point the **Decision Tree** as a better performer."
   ]
  },
  {
   "cell_type": "markdown",
   "metadata": {},
   "source": []
  },
  {
   "cell_type": "markdown",
   "metadata": {},
   "source": [
    "## Performance Metrics: Precision, Recall, F1-Score\n",
    "Time to calculate precision, recall, and F1-score to get a more detailed view of the model performance."
   ]
  },
  {
   "cell_type": "code",
   "execution_count": 18,
   "metadata": {},
   "outputs": [
    {
     "name": "stdout",
     "output_type": "stream",
     "text": [
      "Decision Tree Precision: 0.7757\n",
      "Decision Tree Recall: 0.8137\n",
      "Decision Tree F1-Score: 0.7943\n",
      "\n",
      "Random Forest Precision: 0.8235\n",
      "Random Forest Recall: 0.8235\n",
      "Random Forest F1-Score: 0.8235\n",
      "\n",
      "SVM Precision: 0.7705\n",
      "SVM Recall: 0.9216\n",
      "SVM F1-Score: 0.8393\n",
      "\n",
      "Tuned SVM Precision: 0.7895\n",
      "Tuned SVM Recall: 0.8824\n",
      "Tuned SVM F1-Score: 0.8333\n"
     ]
    }
   ],
   "source": [
    "# Decision Tree metrics\n",
    "precision_dt = precision_score(y_test, y_pred_dt)\n",
    "recall_dt = recall_score(y_test, y_pred_dt)\n",
    "f1_dt = f1_score(y_test, y_pred_dt)\n",
    "\n",
    "print(f\"Decision Tree Precision: {precision_dt:.4f}\")\n",
    "print(f\"Decision Tree Recall: {recall_dt:.4f}\")\n",
    "print(f\"Decision Tree F1-Score: {f1_dt:.4f}\")\n",
    "\n",
    "# Random Forest metrics\n",
    "precision_rf = precision_score(y_test, y_pred_rf)\n",
    "recall_rf = recall_score(y_test, y_pred_rf)\n",
    "f1_rf = f1_score(y_test, y_pred_rf)\n",
    "\n",
    "print(f\"\\nRandom Forest Precision: {precision_rf:.4f}\")\n",
    "print(f\"Random Forest Recall: {recall_rf:.4f}\")\n",
    "print(f\"Random Forest F1-Score: {f1_rf:.4f}\")\n",
    "\n",
    "# SVM metrics\n",
    "precision_svm = precision_score(y_test, y_pred_svm)\n",
    "recall_svm = recall_score(y_test, y_pred_svm)\n",
    "f1_svm = f1_score(y_test, y_pred_svm)\n",
    "\n",
    "print(f\"\\nSVM Precision: {precision_svm:.4f}\")\n",
    "print(f\"SVM Recall: {recall_svm:.4f}\")\n",
    "print(f\"SVM F1-Score: {f1_svm:.4f}\")\n",
    "\n",
    "# Tuned SVM metrics\n",
    "precision_tuned_svm = precision_score(y_test, y_pred_best_svm)\n",
    "recall_tuned_svm = recall_score(y_test, y_pred_best_svm)\n",
    "f1_tuned_svm = f1_score(y_test, y_pred_best_svm)\n",
    "\n",
    "print(f\"\\nTuned SVM Precision: {precision_tuned_svm:.4f}\")\n",
    "print(f\"Tuned SVM Recall: {recall_tuned_svm:.4f}\")\n",
    "print(f\"Tuned SVM F1-Score: {f1_tuned_svm:.4f}\")"
   ]
  },
  {
   "cell_type": "markdown",
   "metadata": {},
   "source": [
    "Very hard choice so I will make it a draw between the **Random Forest** and the **SVM Model**."
   ]
  },
  {
   "cell_type": "markdown",
   "metadata": {},
   "source": []
  },
  {
   "cell_type": "markdown",
   "metadata": {},
   "source": [
    "## **Third Part: Visualizations**"
   ]
  },
  {
   "cell_type": "markdown",
   "metadata": {},
   "source": []
  },
  {
   "cell_type": "markdown",
   "metadata": {},
   "source": [
    "## Confusion Matrix and ROC Curve Visualization\n",
    "We will now visualize the performance of the models using Confusion Matrices and ROC curves to get a better understanding of how well the models are performing."
   ]
  },
  {
   "cell_type": "code",
   "execution_count": 19,
   "metadata": {},
   "outputs": [
    {
     "data": {
      "image/png": "[encoded data removed]",
      "text/plain": [
       "<Figure size 600x400 with 2 Axes>"
      ]
     },
     "metadata": {},
     "output_type": "display_data"
    },
    {
     "data": {
      "image/png": "[encoded data removed]",
      "text/plain": [
       "<Figure size 600x400 with 2 Axes>"
      ]
     },
     "metadata": {},
     "output_type": "display_data"
    },
    {
     "data": {
      "image/png": "[encoded data removed]",
      "text/plain": [
       "<Figure size 600x400 with 2 Axes>"
      ]
     },
     "metadata": {},
     "output_type": "display_data"
    },
    {
     "data": {
      "image/png": "[encoded data removed]",
      "text/plain": [
       "<Figure size 600x400 with 2 Axes>"
      ]
     },
     "metadata": {},
     "output_type": "display_data"
    }
   ],
   "source": [
    "# Confusion Matrix for Decision Tree\n",
    "plt.figure(figsize=(6, 4))\n",
    "sns.heatmap(confusion_matrix(y_test, y_pred_dt), annot=True, fmt='d', cmap='Blues')\n",
    "plt.title('Confusion Matrix - Decision Tree')\n",
    "plt.ylabel('Actual')\n",
    "plt.xlabel('Predicted')\n",
    "plt.show()\n",
    "\n",
    "# Confusion Matrix for Random Forest\n",
    "plt.figure(figsize=(6, 4))\n",
    "sns.heatmap(confusion_matrix(y_test, y_pred_rf), annot=True, fmt='d', cmap='Greens')\n",
    "plt.title('Confusion Matrix - Random Forest')\n",
    "plt.ylabel('Actual')\n",
    "plt.xlabel('Predicted')\n",
    "plt.show()\n",
    "\n",
    "# Confusion Matrix for SVM\n",
    "plt.figure(figsize=(6, 4))\n",
    "sns.heatmap(confusion_matrix(y_test, y_pred_svm), annot=True, fmt='d', cmap='Oranges')\n",
    "plt.title('Confusion Matrix - SVM')\n",
    "plt.ylabel('Actual')\n",
    "plt.xlabel('Predicted')\n",
    "plt.show()\n",
    "\n",
    "# Confusion Matrix for Tuned SVM\n",
    "plt.figure(figsize=(6, 4))\n",
    "sns.heatmap(confusion_matrix(y_test, y_pred_best_svm), annot=True, fmt='d', cmap='Greys')\n",
    "plt.title('Confusion Matrix - Tuned VM')\n",
    "plt.ylabel('Actual')\n",
    "plt.xlabel('Predicted')\n",
    "plt.show()\n"
   ]
  },
  {
   "cell_type": "markdown",
   "metadata": {},
   "source": [
    "## Confussion Matrix conclusion:\n",
    "\n",
    "We have a draw between these two:\n",
    "\n",
    "**SVM model** On the test data has (50) True Positives and True Negatives (94).\n",
    "\n",
    "**Random Forest** On the test data has (60) True Positives and True Negatives (84).\n",
    "\n",
    "\n",
    "The Tuned SVM just fall behind "
   ]
  },
  {
   "cell_type": "markdown",
   "metadata": {},
   "source": []
  },
  {
   "cell_type": "code",
   "execution_count": 20,
   "metadata": {},
   "outputs": [
    {
     "data": {
      "image/png": "[encoded data removed]",
      "text/plain": [
       "<Figure size 600x400 with 1 Axes>"
      ]
     },
     "metadata": {},
     "output_type": "display_data"
    },
    {
     "data": {
      "image/png": "[encoded data removed]",
      "text/plain": [
       "<Figure size 600x400 with 1 Axes>"
      ]
     },
     "metadata": {},
     "output_type": "display_data"
    },
    {
     "data": {
      "image/png": "[encoded data removed]",
      "text/plain": [
       "<Figure size 600x400 with 1 Axes>"
      ]
     },
     "metadata": {},
     "output_type": "display_data"
    },
    {
     "data": {
      "image/png": "[encoded data removed]",
      "text/plain": [
       "<Figure size 600x400 with 1 Axes>"
      ]
     },
     "metadata": {},
     "output_type": "display_data"
    }
   ],
   "source": [
    "# Decision Tree ROC Curve with AUC\n",
    "y_test_pred_probs_dt = dt_classifier.predict_proba(X_test)[:, 1]\n",
    "FPR_dt, TPR_dt, _ = roc_curve(y_test, y_test_pred_probs_dt)\n",
    "auc_dt = roc_auc_score(y_test, y_test_pred_probs_dt)\n",
    "plt.figure(figsize=(6, 4))\n",
    "plt.plot(FPR_dt, TPR_dt, label=f\"Decision Tree (AUC = {auc_dt:.4f})\")\n",
    "plt.plot([0, 1], [0, 1], '--', color='black')\n",
    "plt.title('ROC Curve - Decision Tree')\n",
    "plt.xlabel('False Positive Rate')\n",
    "plt.ylabel('True Positive Rate')\n",
    "plt.legend()\n",
    "plt.show()\n",
    "\n",
    "# Random Forest ROC Curve with AUC\n",
    "y_test_pred_probs_rf = rf_classifier.predict_proba(X_test)[:, 1]\n",
    "FPR_rf, TPR_rf, _ = roc_curve(y_test, y_test_pred_probs_rf)\n",
    "auc_rf = roc_auc_score(y_test, y_test_pred_probs_rf)\n",
    "plt.figure(figsize=(6, 4))\n",
    "plt.plot(FPR_rf, TPR_rf, label=f\"Random Forest (AUC = {auc_rf:.4f})\")\n",
    "plt.plot([0, 1], [0, 1], '--', color='black')\n",
    "plt.title('ROC Curve - Random Forest')\n",
    "plt.xlabel('False Positive Rate')\n",
    "plt.ylabel('True Positive Rate')\n",
    "plt.legend()\n",
    "plt.show()\n",
    "\n",
    "# SVM ROC Curve with AUC\n",
    "y_test_pred_probs_svm = svm_classifier.decision_function(X_test)\n",
    "FPR_svm, TPR_svm, _ = roc_curve(y_test, y_test_pred_probs_svm)\n",
    "auc_svm = roc_auc_score(y_test, y_test_pred_probs_svm)\n",
    "plt.figure(figsize=(6, 4))\n",
    "plt.plot(FPR_svm, TPR_svm, label=f\"SVM (AUC = {auc_svm:.4f})\")\n",
    "plt.plot([0, 1], [0, 1], '--', color='black')\n",
    "plt.title('ROC Curve - SVM')\n",
    "plt.xlabel('False Positive Rate')\n",
    "plt.ylabel('True Positive Rate')\n",
    "plt.legend()\n",
    "plt.show()\n",
    "\n",
    "# Tuned SVM ROC Curve with AUC\n",
    "y_test_pred_probs_best_svm = best_svm.decision_function(X_test)\n",
    "FPR_best_svm, TPR_best_svm, _ = roc_curve(y_test, y_test_pred_probs_best_svm)\n",
    "auc_best_svm = roc_auc_score(y_test, y_test_pred_probs_best_svm)\n",
    "plt.figure(figsize=(6, 4))\n",
    "plt.plot(FPR_best_svm, TPR_best_svm, label=f\"Tuned SVM (AUC = {auc_best_svm:.4f})\")\n",
    "plt.plot([0, 1], [0, 1], '--', color='black')\n",
    "plt.title('ROC Curve - Tuned SVM')\n",
    "plt.xlabel('False Positive Rate')\n",
    "plt.ylabel('True Positive Rate')\n",
    "plt.legend()\n",
    "plt.show()\n",
    "\n"
   ]
  },
  {
   "cell_type": "markdown",
   "metadata": {},
   "source": [
    "## ROC Conclussion\n",
    "\n",
    "In this case:\n",
    "\n",
    "**Tuned SVM** curve and AUC coming nearest to 1 make a great ROC performance showing a result of (0.8717) above the others."
   ]
  },
  {
   "cell_type": "markdown",
   "metadata": {},
   "source": []
  },
  {
   "cell_type": "markdown",
   "metadata": {},
   "source": [
    "## Final thoughts"
   ]
  },
  {
   "cell_type": "markdown",
   "metadata": {},
   "source": [
    "Lets create a dataset with all the data we just covered\n",
    "- 1 = win\n",
    "- 0 = loss"
   ]
  },
  {
   "cell_type": "code",
   "execution_count": 21,
   "metadata": {},
   "outputs": [
    {
     "data": {
      "text/html": [
       "<div>\n",
       "<style scoped>\n",
       "    .dataframe tbody tr th:only-of-type {\n",
       "        vertical-align: middle;\n",
       "    }\n",
       "\n",
       "    .dataframe tbody tr th {\n",
       "        vertical-align: top;\n",
       "    }\n",
       "\n",
       "    .dataframe thead th {\n",
       "        text-align: right;\n",
       "    }\n",
       "</style>\n",
       "<table border=\"1\" class=\"dataframe\">\n",
       "  <thead>\n",
       "    <tr style=\"text-align: right;\">\n",
       "      <th></th>\n",
       "      <th>Model Evaluation</th>\n",
       "      <th>Bias-Variance</th>\n",
       "      <th>K-Cross Validation</th>\n",
       "      <th>Precision, Recall and F1 Score</th>\n",
       "      <th>Confusion Matrix</th>\n",
       "      <th>ROC Curve</th>\n",
       "    </tr>\n",
       "  </thead>\n",
       "  <tbody>\n",
       "    <tr>\n",
       "      <th>Decision Tree</th>\n",
       "      <td>0</td>\n",
       "      <td>0</td>\n",
       "      <td>1</td>\n",
       "      <td>0</td>\n",
       "      <td>0</td>\n",
       "      <td>0</td>\n",
       "    </tr>\n",
       "    <tr>\n",
       "      <th>Random Forest</th>\n",
       "      <td>1</td>\n",
       "      <td>1</td>\n",
       "      <td>1</td>\n",
       "      <td>1</td>\n",
       "      <td>1</td>\n",
       "      <td>0</td>\n",
       "    </tr>\n",
       "    <tr>\n",
       "      <th>SVM</th>\n",
       "      <td>1</td>\n",
       "      <td>0</td>\n",
       "      <td>0</td>\n",
       "      <td>1</td>\n",
       "      <td>1</td>\n",
       "      <td>0</td>\n",
       "    </tr>\n",
       "    <tr>\n",
       "      <th>Tuned SVM</th>\n",
       "      <td>1</td>\n",
       "      <td>0</td>\n",
       "      <td>0</td>\n",
       "      <td>0</td>\n",
       "      <td>0</td>\n",
       "      <td>1</td>\n",
       "    </tr>\n",
       "  </tbody>\n",
       "</table>\n",
       "</div>"
      ],
      "text/plain": [
       "               Model Evaluation  Bias-Variance  K-Cross Validation   \n",
       "Decision Tree                 0              0                   1  \\\n",
       "Random Forest                 1              1                   1   \n",
       "SVM                           1              0                   0   \n",
       "Tuned SVM                     1              0                   0   \n",
       "\n",
       "               Precision, Recall and F1 Score  Confusion Matrix  ROC Curve  \n",
       "Decision Tree                               0                 0          0  \n",
       "Random Forest                               1                 1          0  \n",
       "SVM                                         1                 1          0  \n",
       "Tuned SVM                                   0                 0          1  "
      ]
     },
     "execution_count": 21,
     "metadata": {},
     "output_type": "execute_result"
    }
   ],
   "source": [
    "# Placing the data in a dict (Wining and Loses)\n",
    "data = {\n",
    "    'Model Evaluation': [0, 1, 1, 1],\n",
    "    'Bias-Variance': [0, 1, 0, 0],\n",
    "    'K-Cross Validation': [1, 1, 0, 0],\n",
    "    'Precision, Recall and F1 Score': [0, 1, 1, 0],\n",
    "    'Confusion Matrix': [0, 1, 1, 0],\n",
    "    'ROC Curve': [0, 0, 0, 1]\n",
    "}\n",
    "\n",
    "# Models\n",
    "index_labels = ['Decision Tree', 'Random Forest', 'SVM', 'Tuned SVM']\n",
    "\n",
    "# Making it a df\n",
    "thoughts_df = pd.DataFrame(data, index=index_labels)\n",
    "\n",
    "# Printing it\n",
    "thoughts_df\n"
   ]
  },
  {
   "cell_type": "markdown",
   "metadata": {},
   "source": [
    "This dataset shows a ranking of each individual ML algorithm performance"
   ]
  },
  {
   "cell_type": "code",
   "execution_count": 22,
   "metadata": {},
   "outputs": [
    {
     "data": {
      "image/png": "[encoded data removed]",
      "text/plain": [
       "<Figure size 1000x600 with 1 Axes>"
      ]
     },
     "metadata": {},
     "output_type": "display_data"
    }
   ],
   "source": [
    "# Which one has more wins?\n",
    "plt.figure(figsize=(10, 6))\n",
    "thoughts_df.sum(axis=1).plot(kind='bar', color=['blue', 'green', 'orange', 'red'])\n",
    "plt.title('Sum of Wins per Model')\n",
    "plt.ylabel('Number of Wins')\n",
    "plt.xlabel('Model')\n",
    "plt.xticks(rotation=0)\n",
    "plt.show()"
   ]
  },
  {
   "cell_type": "markdown",
   "metadata": {},
   "source": [
    "Overall the **Random Forest** is the best performer. We will pick the Random Forest to predict whether a student enters or not into the University. By making the highest number of accuracies this ML is the most realiable model for this study.\n",
    "\n",
    "It made the difference because its performance in the Bias-Variance and K-Cross validation.\n",
    "\n",
    "Sometimes the simplest is the best."
   ]
  },
  {
   "cell_type": "markdown",
   "metadata": {},
   "source": []
  },
  {
   "cell_type": "markdown",
   "metadata": {},
   "source": [
    "## References\n",
    "\n",
    "Anwar Hossain EFAT (2024). Undergraduate Admission Test Survey in Bangladesh. [online] Kaggle.com. Available at: https://www.kaggle.com/datasets/ahefatresearch/undergraduate-admission-test-survey-in-bangladesh [Accessed 10 Oct. 2024].\n",
    "\n",
    "AWS (n.d.). What is Hyperparameter Tuning? - Hyperparameter Tuning Methods Explained - AWS. [online] Amazon Web Services, Inc. Available at: https://aws.amazon.com/what-is/hyperparameter-tuning/.\n",
    "\n",
    "Iqbal, M. (n.d.). Machine Learning HDip in Science for DAB/ AI CCT College Dublin.\n",
    "\n",
    "Iqbal, M. (n.d.). Machine Learning HDip in Science for DAB/ AI CCT College Dublin Classification and Regression Week 2.\n",
    "\n",
    "Linkedin Community, A. (2024). How can you use support vector machine algorithms to improve customer retention? [online] Linkedin.com. Available at: https://www.linkedin.com/advice/1/how-can-you-use-support-vector-machine-id7lc [Accessed 10 Oct. 2024].\n",
    "\n",
    "Lui, D. and Angus, G. (2023). How to Guide: Overcoming overfitting in your ML models - Predibase. [online] Predibase.com. Available at: https://predibase.com/blog/how-to-guide-overcoming-overfitting-in-your-ml-models.\n",
    "\n",
    "Mujtaba, H. (2020a). An Introduction to Grid Search CV | What is Grid Search. [online] GreatLearning. Available at: https://www.mygreatlearning.com/blog/gridsearchcv/.\n",
    "\n",
    "Mujtaba, H. (2020b). What is Cross Validation in Machine learning? Types of Cross Validation. [online] GreatLearning Blog: Free Resources what Matters to shape your Career! Available at: https://www.mygreatlearning.com/blog/cross-validation/.\n",
    "\n",
    "Scikit Learn (2012). 3.2. Tuning the hyper-parameters of an estimator — scikit-learn 0.22 documentation. [online] Scikit-learn.org. Available at: https://scikit-learn.org/stable/modules/grid_search.html.\n",
    "\n",
    "Simplilearn (2021). What is Dimensionality Reduction? Overview, and Popular Techniques. [online] Simplilearn.com. Available at: https://www.simplilearn.com/what-is-dimensionality-reduction-article.\n",
    "\n",
    "Singh, V. (2023). Evaluation Metrics in Machine Learning - Shiksha Online. [online] Shiksha.com. Available at: https://www.shiksha.com/online-courses/articles/evaluating-a-machine-learning-algorithm/.\n",
    "\n",
    "Terra, J. (2022). What is a ROC Curve, and How Do You Use It in Performance Modeling? | Simplilearn. [online] Simplilearn.com. Available at: https://www.simplilearn.com/what-is-a-roc-curve-and-how-to-use-it-in-performance-modeling-article.\n",
    "\n",
    "Learn, S. (2024). RocCurveDisplay. [online] scikit-learn. Available at: https://scikit-learn.org/1.5/modules/generated/sklearn.metrics.RocCurveDisplay.html [Accessed 5 Nov. 2024].\n",
    "\n",
    "Bobbitt, Z. (2021). How to interpret a confusion matrix for a machine learning model. [online] www.evidentlyai.com. Available at: https://www.evidentlyai.com/classification-metrics/confusion-matrix.\n",
    "\n",
    "Turing.com. (2022). Different Types of Cross-Validations in Machine Learning and Their Explanations. [online] Available at: https://www.turing.com/kb/different-types-of-cross-validations-in-machine-learning-and-their-explanations# [Accessed 7 Nov. 2024].\n",
    "\n",
    "James, G., Witten, D., Hastie, T. and Tibshirani, R. (2013). An introduction to statistical learning : with applications in R. [online] Springer, pp.181, 183. Available at: https://static1.squarespace.com/static/5ff2adbe3fe4fe33db902812/t/6009dd9fa7bc363aa822d2c7/1611259312432/ISLR+Seventh+Printing.pdf.\n",
    "\n",
    "RudderStack. (n.d.). What is Generalization in Machine Learning? [online] Available at: https://www.rudderstack.com/learn/machine-learning/generalization-in-machine-learning/."
   ]
  }
 ],
 "metadata": {
  "kernelspec": {
   "display_name": "Python 3",
   "language": "python",
   "name": "python3"
  },
  "language_info": {
   "codemirror_mode": {
    "name": "ipython",
    "version": 3
   },
   "file_extension": ".py",
   "mimetype": "text/x-python",
   "name": "python",
   "nbconvert_exporter": "python",
   "pygments_lexer": "ipython3",
   "version": "3.11.3"
  }
 },
 "nbformat": 4,
 "nbformat_minor": 2
}
